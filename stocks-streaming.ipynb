﻿{
  "metadata": {
    "name": "stocks-streaming",
    "kernelspec": {
      "language": "scala",
      "name": "spark2-scala"
    },
    "language_info": {
      "codemirror_mode": "text/x-scala",
      "file_extension": ".scala",
      "mimetype": "text/x-scala",
      "name": "scala",
      "pygments_lexer": "scala"
    }
  },
  "nbformat": 4,
  "nbformat_minor": 2,
  "cells": [
    {
      "cell_type": "code",
      "execution_count": 0,
      "metadata": {
        "autoscroll": "auto"
      },
      "outputs": [],
      "source": "%flink.conf\r\nexecution.checkpointing.interval 5000\r\n"
    },
    {
      "cell_type": "code",
      "execution_count": 1,
      "metadata": {
        "autoscroll": "auto"
      },
      "outputs": [],
      "source": "%flink.ssql(type\u003dupdate)\r\n\r\nDROP TABLE if exists stock_table;\r\n\r\nCREATE TABLE stock_table (\r\n    uuid varchar,\r\n    ticker VARCHAR,\r\n    price DOUBLE,\r\n    event_time TIMESTAMP(3),\r\n    WATERMARK FOR event_time AS event_time - INTERVAL \u00275\u0027 SECOND\r\n)\r\nPARTITIONED BY (ticker)\r\nWITH (\r\n    \u0027connector\u0027 \u003d \u0027kinesis\u0027,\r\n    \u0027stream\u0027 \u003d \u0027input-stream\u0027,\r\n    \u0027aws.region\u0027 \u003d \u0027us-east-1\u0027,\r\n    \u0027scan.stream.initpos\u0027 \u003d \u0027LATEST\u0027,\r\n    \u0027format\u0027 \u003d \u0027json\u0027,\r\n    \u0027json.timestamp-format.standard\u0027 \u003d \u0027ISO-8601\u0027\r\n);"
    },
    {
      "cell_type": "code",
      "execution_count": 2,
      "metadata": {
        "autoscroll": "auto"
      },
      "outputs": [],
      "source": "%flink.ssql(type\u003dupdate)\r\n\r\nDROP TABLE if exists stock_table_hudi;\r\n\r\nCREATE TABLE stock_table_hudi(\r\n    uuid varchar  ,\r\n    ticker VARCHAR,\r\n    price DOUBLE,\r\n    event_time TIMESTAMP(3)\r\n)\r\nPARTITIONED BY (ticker)\r\nWITH (\r\n    \u0027connector\u0027 \u003d \u0027hudi\u0027,\r\n    \u0027path\u0027 \u003d \u0027s3a://shahid-hudi-demo/tmp/\u0027,\r\n    \u0027table.type\u0027 \u003d \u0027MERGE_ON_READ\u0027 ,\r\n    \u0027hoodie.embed.timeline.server\u0027 \u003d \u0027false\u0027\r\n);\r\n"
    },
    {
      "cell_type": "code",
      "execution_count": 3,
      "metadata": {
        "autoscroll": "auto"
      },
      "outputs": [],
      "source": "%flink.ssql(type\u003dupdate)\r\nINSERT INTO stock_table_hudi SELECT * FROM stock_table;"
    }
  ]
}